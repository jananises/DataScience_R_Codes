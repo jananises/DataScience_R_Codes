{
 "cells": [
  {
   "cell_type": "code",
   "execution_count": 1,
   "metadata": {},
   "outputs": [
    {
     "name": "stdout",
     "output_type": "stream",
     "text": [
      "Enter a Number4\n",
      "Enter a Number5\n",
      "Enter a Number6\n",
      "Raised to the Power Output: 1024\n",
      "Division Operator Output: 0\n",
      "Assignment Operator Output: 14\n",
      "Logical Operator Ouput for 'and' operator: 5\n",
      "Logical Operator Ouput for 'or' operator: 5\n",
      "Identity Operator Output: False\n",
      "Output of membership Operator: True\n"
     ]
    }
   ],
   "source": [
    "InputVar1 = int(input(\"Enter a Number\"))\n",
    "InputVar2 = int(input(\"Enter a Number\"))\n",
    "InputVar3 = int(input(\"Enter a Number\"))\n",
    "\n",
    "#Arithmetic Opeartor - Raised to the power\n",
    "OutputVar1 = InputVar1**InputVar2\n",
    "print(\"Raised to the Power Output:\", OutputVar1)\n",
    "\n",
    "#Arithmetic Opeartor - Division\n",
    "OutputVar2 = InputVar2//InputVar3\n",
    "print(\"Division Operator Output:\", OutputVar2)\n",
    "\n",
    "#Assignment Operator\n",
    "InputVar1+=10\n",
    "print(\"Assignment Operator Output:\", InputVar1)\n",
    "\n",
    "#Logical Operator\n",
    "OutputVar1 = InputVar1 and InputVar2\n",
    "print(\"Logical Operator Ouput for 'and' operator:\", OutputVar1)\n",
    "\n",
    "OutputVar2 = InputVar2 or InputVar3\n",
    "print(\"Logical Operator Ouput for 'or' operator:\", OutputVar2)\n",
    "\n",
    "#Identity Operator\n",
    "a=InputVar1 is 15\n",
    "print(\"Identity Operator Output:\", a)\n",
    "\n",
    "#Membership Operator\n",
    "x = [10,11,12,13,14]\n",
    "print(\"Output of membership Operator:\", 12 in x)"
   ]
  },
  {
   "cell_type": "code",
   "execution_count": null,
   "metadata": {},
   "outputs": [],
   "source": []
  }
 ],
 "metadata": {
  "kernelspec": {
   "display_name": "Python 3",
   "language": "python",
   "name": "python3"
  },
  "language_info": {
   "codemirror_mode": {
    "name": "ipython",
    "version": 3
   },
   "file_extension": ".py",
   "mimetype": "text/x-python",
   "name": "python",
   "nbconvert_exporter": "python",
   "pygments_lexer": "ipython3",
   "version": "3.7.6"
  }
 },
 "nbformat": 4,
 "nbformat_minor": 4
}
